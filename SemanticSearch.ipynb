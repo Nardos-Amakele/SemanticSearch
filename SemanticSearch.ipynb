{
 "cells": [
  {
   "cell_type": "code",
   "execution_count": null,
   "metadata": {
    "colab": {
     "base_uri": "https://localhost:8080/"
    },
    "id": "NgO-8BIDfBAJ",
    "outputId": "637a46a6-c4c1-4a42-d3a4-e30156674c6e"
   },
   "outputs": [
    {
     "name": "stdout",
     "output_type": "stream",
     "text": [
      "Drive already mounted at /content/drive; to attempt to forcibly remount, call drive.mount(\"/content/drive\", force_remount=True).\n"
     ]
    }
   ],
   "source": [
    "from google.colab import drive\n",
    "\n",
    "drive.mount('/content/drive')\n"
   ]
  },
  {
   "cell_type": "code",
   "execution_count": null,
   "metadata": {
    "colab": {
     "base_uri": "https://localhost:8080/"
    },
    "id": "3dp-x0bdfEpn",
    "outputId": "19aed5ba-8cda-4b2f-c7be-7fcc1a500257"
   },
   "outputs": [
    {
     "name": "stderr",
     "output_type": "stream",
     "text": [
      "/usr/local/lib/python3.10/dist-packages/sentence_transformers/cross_encoder/CrossEncoder.py:13: TqdmExperimentalWarning: Using `tqdm.autonotebook.tqdm` in notebook mode. Use `tqdm.tqdm` instead to force console mode (e.g. in jupyter console)\n",
      "  from tqdm.autonotebook import tqdm, trange\n"
     ]
    }
   ],
   "source": [
    "import os\n",
    "import pandas as pd\n",
    "from bs4 import BeautifulSoup\n",
    "import re\n",
    "from sentence_transformers import SentenceTransformer\n",
    "import numpy as np\n",
    "import faiss\n"
   ]
  },
  {
   "cell_type": "code",
   "execution_count": null,
   "metadata": {
    "colab": {
     "base_uri": "https://localhost:8080/"
    },
    "id": "59qBcZe1fIyX",
    "outputId": "b5e0f029-6f32-4ce7-b992-f6c3d8e42634"
   },
   "outputs": [
    {
     "name": "stdout",
     "output_type": "stream",
     "text": [
      "Files in dataset folder: ['train.csv', 'valid.csv']\n",
      "Preview of train.csv:\n",
      "         Id                                              Title  \\\n",
      "0  34552656             Java: Repeat Task Every Random Seconds   \n",
      "1  34553034                  Why are Java Optionals immutable?   \n",
      "2  34553174  Text Overlay Image with Darkened Opacity React...   \n",
      "3  34553318         Why ternary operator in swift is so picky?   \n",
      "4  34553755                 hide/show fab with scale animation   \n",
      "\n",
      "                                                Body  \\\n",
      "0  <p>I'm already familiar with repeating tasks e...   \n",
      "1  <p>I'd like to understand why Java 8 Optionals...   \n",
      "2  <p>I am attempting to overlay a title over an ...   \n",
      "3  <p>The question is very simple, but I just cou...   \n",
      "4  <p>I'm using custom floatingactionmenu. I need...   \n",
      "\n",
      "                                                Tags         CreationDate  \\\n",
      "0                                     <java><repeat>  2016-01-01 00:21:59   \n",
      "1                                   <java><optional>  2016-01-01 02:03:20   \n",
      "2  <javascript><image><overlay><react-native><opa...  2016-01-01 02:48:24   \n",
      "3  <swift><operators><whitespace><ternary-operato...  2016-01-01 03:30:17   \n",
      "4  <android><material-design><floating-action-but...  2016-01-01 05:21:48   \n",
      "\n",
      "          Y  \n",
      "0  LQ_CLOSE  \n",
      "1        HQ  \n",
      "2        HQ  \n",
      "3        HQ  \n",
      "4        HQ  \n",
      "\n",
      "Preview of valid.csv:\n",
      "         Id                                              Title  \\\n",
      "0  34552974  How to get all the child records from differen...   \n",
      "1  34554721  Retrieve all except some data of the another t...   \n",
      "2  34555135                                  Pandas: read_html   \n",
      "3  34555448                           Reader Always gimme NULL   \n",
      "4  34555752    php rearrange array elements based on condition   \n",
      "\n",
      "                                                Body  \\\n",
      "0  I am having 4 different tables like \\r\\nselect...   \n",
      "1  I have two table m_master and tbl_appointment\\...   \n",
      "2  <p>I'm trying to extract US states from wiki U...   \n",
      "3  I'm so new to C#, I wanna make an application ...   \n",
      "4  basically i have this array:\\r\\n\\r\\n    array(...   \n",
      "\n",
      "                                     Tags         CreationDate        Y  \n",
      "0                       <sql><sql-server>  2016-01-01 01:44:52  LQ_EDIT  \n",
      "1  <php><mysql><sql><codeigniter><mysqli>  2016-01-01 08:43:50  LQ_EDIT  \n",
      "2                        <python><pandas>  2016-01-01 09:55:22       HQ  \n",
      "3                    <sql-server><c#-4.0>  2016-01-01 10:43:45  LQ_EDIT  \n",
      "4                                   <php>  2016-01-01 11:34:09  LQ_EDIT  \n"
     ]
    }
   ],
   "source": [
    "dataset_folder = '/content/drive/My Drive/Semantic/'\n",
    "\n",
    "files = os.listdir(dataset_folder)\n",
    "print(\"Files in dataset folder:\", files)\n",
    "\n",
    "train_path = os.path.join(dataset_folder, 'train.csv')\n",
    "valid_path = os.path.join(dataset_folder, 'valid.csv')\n",
    "\n",
    "train_data = pd.read_csv(train_path)\n",
    "valid_data = pd.read_csv(valid_path)\n",
    "\n",
    "print(\"Preview of train.csv:\")\n",
    "print(train_data.head())\n",
    "\n",
    "print(\"\\nPreview of valid.csv:\")\n",
    "print(valid_data.head())\n"
   ]
  },
  {
   "cell_type": "code",
   "execution_count": null,
   "metadata": {
    "colab": {
     "base_uri": "https://localhost:8080/"
    },
    "id": "FNZOp-ZmfLZ7",
    "outputId": "889bce9e-2ec6-4bce-e3d4-6150546eebc6"
   },
   "outputs": [
    {
     "name": "stderr",
     "output_type": "stream",
     "text": [
      "<ipython-input-4-bd08530c9066>:4: MarkupResemblesLocatorWarning: The input looks more like a filename than markup. You may want to open this file and pass the filehandle into Beautiful Soup.\n",
      "  text = BeautifulSoup(text, \"html.parser\").get_text()\n",
      "<ipython-input-4-bd08530c9066>:4: MarkupResemblesLocatorWarning: The input looks more like a filename than markup. You may want to open this file and pass the filehandle into Beautiful Soup.\n",
      "  text = BeautifulSoup(text, \"html.parser\").get_text()\n",
      "/usr/lib/python3.10/html/parser.py:170: XMLParsedAsHTMLWarning: It looks like you're parsing an XML document using an HTML parser. If this really is an HTML document (maybe it's XHTML?), you can ignore or filter this warning. If it's XML, you should know that using an XML parser will be more reliable. To parse this document as XML, make sure you have the lxml package installed, and pass the keyword argument `features=\"xml\"` into the BeautifulSoup constructor.\n",
      "  k = self.parse_starttag(i)\n",
      "/usr/lib/python3.10/html/parser.py:342: XMLParsedAsHTMLWarning: It looks like you're parsing an XML document using an HTML parser. If this really is an HTML document (maybe it's XHTML?), you can ignore or filter this warning. If it's XML, you should know that using an XML parser will be more reliable. To parse this document as XML, make sure you have the lxml package installed, and pass the keyword argument `features=\"xml\"` into the BeautifulSoup constructor.\n",
      "  self.handle_startendtag(tag, attrs)\n",
      "<ipython-input-4-bd08530c9066>:4: MarkupResemblesLocatorWarning: The input looks more like a filename than markup. You may want to open this file and pass the filehandle into Beautiful Soup.\n",
      "  text = BeautifulSoup(text, \"html.parser\").get_text()\n",
      "<ipython-input-4-bd08530c9066>:4: MarkupResemblesLocatorWarning: The input looks more like a filename than markup. You may want to open this file and pass the filehandle into Beautiful Soup.\n",
      "  text = BeautifulSoup(text, \"html.parser\").get_text()\n",
      "/usr/lib/python3.10/html/parser.py:170: XMLParsedAsHTMLWarning: It looks like you're parsing an XML document using an HTML parser. If this really is an HTML document (maybe it's XHTML?), you can ignore or filter this warning. If it's XML, you should know that using an XML parser will be more reliable. To parse this document as XML, make sure you have the lxml package installed, and pass the keyword argument `features=\"xml\"` into the BeautifulSoup constructor.\n",
      "  k = self.parse_starttag(i)\n"
     ]
    },
    {
     "name": "stdout",
     "output_type": "stream",
     "text": [
      "Preview of cleaned train.csv:\n",
      "                                       Cleaned_Title  \\\n",
      "0              java repeat task every random seconds   \n",
      "1                   why are java optionals immutable   \n",
      "2  text overlay image with darkened opacity react...   \n",
      "3          why ternary operator in swift is so picky   \n",
      "4                  hideshow fab with scale animation   \n",
      "\n",
      "                                        Cleaned_Body  \n",
      "0  im already familiar with repeating tasks every...  \n",
      "1  id like to understand why java 8 optionals wer...  \n",
      "2  i am attempting to overlay a title over an ima...  \n",
      "3  the question is very simple but i just could n...  \n",
      "4  im using custom floatingactionmenu i need to i...  \n",
      "\n",
      "Preview of cleaned valid.csv:\n",
      "                                       Cleaned_Title  \\\n",
      "0  how to get all the child records from differen...   \n",
      "1  retrieve all except some data of the another t...   \n",
      "2                                   pandas read_html   \n",
      "3                           reader always gimme null   \n",
      "4    php rearrange array elements based on condition   \n",
      "\n",
      "                                        Cleaned_Body  \n",
      "0  i am having 4 different tables like select  fr...  \n",
      "1  i have two table m_master and tbl_appointment ...  \n",
      "2  im trying to extract us states from wiki url a...  \n",
      "3  im so new to c i wanna make an application tha...  \n",
      "4  basically i have this array array 08000840  ar...  \n"
     ]
    }
   ],
   "source": [
    "def clean_text(text):\n",
    "    text = BeautifulSoup(text, \"html.parser\").get_text()\n",
    "\n",
    "    text = re.sub(r'\\s+', ' ', text)\n",
    "    text = re.sub(r'[^\\w\\s]', '', text)\n",
    "\n",
    "    return text.lower().strip()\n",
    "\n",
    "train_data['Cleaned_Title'] = train_data['Title'].apply(clean_text)\n",
    "train_data['Cleaned_Body'] = train_data['Body'].apply(clean_text)\n",
    "\n",
    "valid_data['Cleaned_Title'] = valid_data['Title'].apply(clean_text)\n",
    "valid_data['Cleaned_Body'] = valid_data['Body'].apply(clean_text)\n",
    "\n",
    "print(\"Preview of cleaned train.csv:\")\n",
    "print(train_data[['Cleaned_Title', 'Cleaned_Body']].head())\n",
    "\n",
    "print(\"\\nPreview of cleaned valid.csv:\")\n",
    "print(valid_data[['Cleaned_Title', 'Cleaned_Body']].head())\n"
   ]
  },
  {
   "cell_type": "code",
   "execution_count": null,
   "metadata": {
    "colab": {
     "base_uri": "https://localhost:8080/",
     "height": 240,
     "referenced_widgets": [
      "9f8e71709d9e4b6bbcdd9f252db66b78",
      "a88bcf1933944768b3cb06eb2b2566cd",
      "4193daac487f47e18ea46c36568dd3f0",
      "fa10c3090513462b8efea0da570a0c72",
      "fc4172b7698d47c4992c21cb117c0ff4",
      "9f5915320fe24e0a8cddd0bd64dbd2ab",
      "2cf17dd3472143469a674d5fb43b5138",
      "6e7bf645e0fd48b1ac079fabcc498e5a",
      "d9c26ff122d44da89ce17cfd59817e21",
      "1446fc38757c47c5b176abb70a0e5750",
      "0248c87e1db94356821e2f52df3a9bd9",
      "b24cbed457ea43628e45413c4f3d2c7f",
      "29a04935a9ab40abbafe34513633a605",
      "22605db6a6c948918f8364ad5e4e3bda",
      "a50ab5571daf4939be73c2cd03d2f44b",
      "fabffd25547d4a1ba247681aa066a3a9",
      "397a12c974fb40c5abfa5dc2a4764239",
      "2adb8aee1d4d4ec083c7cdd978de1acd",
      "df8fbb0ff4cc487da306d011aa7c5b0a",
      "26b62b16ec4a4677922d2a650679aea3",
      "d0ef5739ba5e418cbe82511fe8d11aa2",
      "dae4a6ac93b5401ca4c4a14e6bd16138"
     ]
    },
    "id": "jHJMVYsVjL9q",
    "outputId": "1a4dbc36-1b46-4800-b0b1-c71ce91a33b3"
   },
   "outputs": [
    {
     "name": "stderr",
     "output_type": "stream",
     "text": [
      "/usr/local/lib/python3.10/dist-packages/huggingface_hub/utils/_auth.py:94: UserWarning: \n",
      "The secret `HF_TOKEN` does not exist in your Colab secrets.\n",
      "To authenticate with the Hugging Face Hub, create a token in your settings tab (https://huggingface.co/settings/tokens), set it as secret in your Google Colab and restart your session.\n",
      "You will be able to reuse this secret in all of your notebooks.\n",
      "Please note that authentication is recommended but still optional to access public models or datasets.\n",
      "  warnings.warn(\n"
     ]
    },
    {
     "data": {
      "application/vnd.jupyter.widget-view+json": {
       "model_id": "9f8e71709d9e4b6bbcdd9f252db66b78",
       "version_major": 2,
       "version_minor": 0
      },
      "text/plain": [
       "Batches:   0%|          | 0/1407 [00:00<?, ?it/s]"
      ]
     },
     "metadata": {},
     "output_type": "display_data"
    },
    {
     "data": {
      "application/vnd.jupyter.widget-view+json": {
       "model_id": "b24cbed457ea43628e45413c4f3d2c7f",
       "version_major": 2,
       "version_minor": 0
      },
      "text/plain": [
       "Batches:   0%|          | 0/469 [00:00<?, ?it/s]"
      ]
     },
     "metadata": {},
     "output_type": "display_data"
    },
    {
     "name": "stdout",
     "output_type": "stream",
     "text": [
      "Shape of train embeddings: (45000, 768)\n",
      "Shape of valid embeddings: (15000, 768)\n"
     ]
    }
   ],
   "source": [
    "model = SentenceTransformer('distilbert-base-nli-stsb-mean-tokens')\n",
    "\n",
    "def get_combined_text(row):\n",
    "    return row['Cleaned_Title'] + \" \" + row['Cleaned_Body']\n",
    "\n",
    "train_data['Combined_Text'] = train_data.apply(get_combined_text, axis=1)\n",
    "valid_data['Combined_Text'] = valid_data.apply(get_combined_text, axis=1)\n",
    "\n",
    "train_embeddings = model.encode(train_data['Combined_Text'].tolist(), show_progress_bar=True)\n",
    "valid_embeddings = model.encode(valid_data['Combined_Text'].tolist(), show_progress_bar=True)\n",
    "\n",
    "print(\"Shape of train embeddings:\", np.shape(train_embeddings))\n",
    "print(\"Shape of valid embeddings:\", np.shape(valid_embeddings))\n",
    "\n",
    "np.save('/content/train_embeddings.npy', train_embeddings)\n",
    "np.save('/content/valid_embeddings.npy', valid_embeddings)\n"
   ]
  },
  {
   "cell_type": "code",
   "execution_count": null,
   "metadata": {
    "colab": {
     "base_uri": "https://localhost:8080/"
    },
    "id": "aB3vl80tkEIl",
    "outputId": "e6129daf-7b0b-4564-fbbb-185e2c2d89e7"
   },
   "outputs": [
    {
     "name": "stdout",
     "output_type": "stream",
     "text": [
      "Number of embeddings in the index: 45000\n"
     ]
    }
   ],
   "source": [
    "embedding_dimension = 768\n",
    "\n",
    "index = faiss.IndexFlatL2(embedding_dimension)\n",
    "\n",
    "index.add(np.array(train_embeddings, dtype=np.float32))\n",
    "\n",
    "print(f\"Number of embeddings in the index: {index.ntotal}\")\n"
   ]
  },
  {
   "cell_type": "code",
   "execution_count": null,
   "metadata": {
    "id": "HZuIc_LbkHx_"
   },
   "outputs": [],
   "source": [
    "def search_similar_documents(query, k=5):\n",
    "    query_cleaned = clean_text(query)\n",
    "\n",
    "    query_embedding = model.encode([query_cleaned], show_progress_bar=False)\n",
    "\n",
    "    D, I = index.search(query_embedding.astype(np.float32), k)\n",
    "\n",
    "    print(\"\\nTop 5 most similar documents:\")\n",
    "    for i, idx in enumerate(I[0]):\n",
    "        print(f\"Rank {i + 1}: Document ID {idx}, Similarity Score: {D[0][i]}\")\n",
    "        print(f\"Document Title: {train_data.iloc[idx]['Title']}\")\n",
    "        print(f\"Document Body: {train_data.iloc[idx]['Body'][:300]}...\")\n",
    "        print(\"=\"*80)\n"
   ]
  },
  {
   "cell_type": "code",
   "execution_count": null,
   "metadata": {
    "colab": {
     "base_uri": "https://localhost:8080/"
    },
    "id": "pLhbpkyokKr8",
    "outputId": "478b22f4-a2b8-4e82-c91a-7f9b44e70a0e"
   },
   "outputs": [
    {
     "name": "stdout",
     "output_type": "stream",
     "text": [
      "Enter a search query: what is deep learning?\n",
      "\n",
      "Top 5 most similar documents:\n",
      "Rank 1: Document ID 15281, Similarity Score: 216.79537963867188\n",
      "Document Title: Image preprocessing in deep learning\n",
      "Document Body: <p>I am experimenting with deep learning on images. I have about ~4000 images from different cameras with different light conditions, image resolutions and view angle. </p>\n",
      "\n",
      "<p>My question is: <strong>What kind of image preprocessing would be helpful for improving object detection?</strong> (For exa...\n",
      "================================================================================\n",
      "Rank 2: Document ID 39621, Similarity Score: 226.35037231445312\n",
      "Document Title: How to generate new image using deep learning, from new features\n",
      "Document Body: <p>If i have a dataset consisting by a list of images each associated with a series of features; there is a model that, once trained, generates new images upon entering a new list of features?</p>\n",
      "...\n",
      "================================================================================\n",
      "Rank 3: Document ID 25707, Similarity Score: 241.96725463867188\n",
      "Document Title: Computer Vision - Image Fundamentals\n",
      "Document Body: <p>I have recently got hooked up on <code>Deep Learning in Computer Vision</code> and i was wondering if any of you could recommend some resources on Image Fundamentals so i understand how Images work and <code>Image Preprocessing</code>. Also if you guys have any good resources on <code>Deep Learni...\n",
      "================================================================================\n",
      "Rank 4: Document ID 16181, Similarity Score: 258.86309814453125\n",
      "Document Title: Physical Pixels vs CSS Pixels vs Device Independent Pixels vs Density Independent Pixels vs PPI\n",
      "Document Body: <p>I am learning web development and I am having a hard time determining what is equivalent in all of this. </p>\n",
      "\n",
      "<p>I know hardware pixels and physical pixels are the smallest unit, and that density independent pixels map to actual hardware pixels via a device pixel ratio and they are used to make ...\n",
      "================================================================================\n",
      "Rank 5: Document ID 37564, Similarity Score: 260.5565185546875\n",
      "Document Title: Face Movement direction detection using c# and emgucv\n",
      "Document Body: I am new to Emgucv and I am working on face movement direction detection \n",
      "I had come across many codes in Internet but they are very difficult to understand.\n",
      "\n",
      "So can you please provide a easy  and understandable code or links for learning this situation.\n",
      "\n",
      "Thanks in advance\n",
      "\n",
      "...\n",
      "================================================================================\n"
     ]
    }
   ],
   "source": [
    "query = input(\"Enter a search query: \")\n",
    "\n",
    "search_similar_documents(query, k=5)\n"
   ]
  }
 ],
 "metadata": {
  "accelerator": "GPU",
  "colab": {
   "gpuType": "T4",
   "provenance": []
  },
  "kernelspec": {
   "display_name": "Python 3",
   "name": "python3"
  },
  "language_info": {
   "name": "python"
  },
  "widgets": {
   "application/vnd.jupyter.widget-state+json": {
    "0248c87e1db94356821e2f52df3a9bd9": {
     "model_module": "@jupyter-widgets/controls",
     "model_module_version": "1.5.0",
     "model_name": "DescriptionStyleModel",
     "state": {
      "_model_module": "@jupyter-widgets/controls",
      "_model_module_version": "1.5.0",
      "_model_name": "DescriptionStyleModel",
      "_view_count": null,
      "_view_module": "@jupyter-widgets/base",
      "_view_module_version": "1.2.0",
      "_view_name": "StyleView",
      "description_width": ""
     }
    },
    "1446fc38757c47c5b176abb70a0e5750": {
     "model_module": "@jupyter-widgets/base",
     "model_module_version": "1.2.0",
     "model_name": "LayoutModel",
     "state": {
      "_model_module": "@jupyter-widgets/base",
      "_model_module_version": "1.2.0",
      "_model_name": "LayoutModel",
      "_view_count": null,
      "_view_module": "@jupyter-widgets/base",
      "_view_module_version": "1.2.0",
      "_view_name": "LayoutView",
      "align_content": null,
      "align_items": null,
      "align_self": null,
      "border": null,
      "bottom": null,
      "display": null,
      "flex": null,
      "flex_flow": null,
      "grid_area": null,
      "grid_auto_columns": null,
      "grid_auto_flow": null,
      "grid_auto_rows": null,
      "grid_column": null,
      "grid_gap": null,
      "grid_row": null,
      "grid_template_areas": null,
      "grid_template_columns": null,
      "grid_template_rows": null,
      "height": null,
      "justify_content": null,
      "justify_items": null,
      "left": null,
      "margin": null,
      "max_height": null,
      "max_width": null,
      "min_height": null,
      "min_width": null,
      "object_fit": null,
      "object_position": null,
      "order": null,
      "overflow": null,
      "overflow_x": null,
      "overflow_y": null,
      "padding": null,
      "right": null,
      "top": null,
      "visibility": null,
      "width": null
     }
    },
    "22605db6a6c948918f8364ad5e4e3bda": {
     "model_module": "@jupyter-widgets/controls",
     "model_module_version": "1.5.0",
     "model_name": "FloatProgressModel",
     "state": {
      "_dom_classes": [],
      "_model_module": "@jupyter-widgets/controls",
      "_model_module_version": "1.5.0",
      "_model_name": "FloatProgressModel",
      "_view_count": null,
      "_view_module": "@jupyter-widgets/controls",
      "_view_module_version": "1.5.0",
      "_view_name": "ProgressView",
      "bar_style": "success",
      "description": "",
      "description_tooltip": null,
      "layout": "IPY_MODEL_df8fbb0ff4cc487da306d011aa7c5b0a",
      "max": 469,
      "min": 0,
      "orientation": "horizontal",
      "style": "IPY_MODEL_26b62b16ec4a4677922d2a650679aea3",
      "value": 469
     }
    },
    "26b62b16ec4a4677922d2a650679aea3": {
     "model_module": "@jupyter-widgets/controls",
     "model_module_version": "1.5.0",
     "model_name": "ProgressStyleModel",
     "state": {
      "_model_module": "@jupyter-widgets/controls",
      "_model_module_version": "1.5.0",
      "_model_name": "ProgressStyleModel",
      "_view_count": null,
      "_view_module": "@jupyter-widgets/base",
      "_view_module_version": "1.2.0",
      "_view_name": "StyleView",
      "bar_color": null,
      "description_width": ""
     }
    },
    "29a04935a9ab40abbafe34513633a605": {
     "model_module": "@jupyter-widgets/controls",
     "model_module_version": "1.5.0",
     "model_name": "HTMLModel",
     "state": {
      "_dom_classes": [],
      "_model_module": "@jupyter-widgets/controls",
      "_model_module_version": "1.5.0",
      "_model_name": "HTMLModel",
      "_view_count": null,
      "_view_module": "@jupyter-widgets/controls",
      "_view_module_version": "1.5.0",
      "_view_name": "HTMLView",
      "description": "",
      "description_tooltip": null,
      "layout": "IPY_MODEL_397a12c974fb40c5abfa5dc2a4764239",
      "placeholder": "​",
      "style": "IPY_MODEL_2adb8aee1d4d4ec083c7cdd978de1acd",
      "value": "Batches: 100%"
     }
    },
    "2adb8aee1d4d4ec083c7cdd978de1acd": {
     "model_module": "@jupyter-widgets/controls",
     "model_module_version": "1.5.0",
     "model_name": "DescriptionStyleModel",
     "state": {
      "_model_module": "@jupyter-widgets/controls",
      "_model_module_version": "1.5.0",
      "_model_name": "DescriptionStyleModel",
      "_view_count": null,
      "_view_module": "@jupyter-widgets/base",
      "_view_module_version": "1.2.0",
      "_view_name": "StyleView",
      "description_width": ""
     }
    },
    "2cf17dd3472143469a674d5fb43b5138": {
     "model_module": "@jupyter-widgets/controls",
     "model_module_version": "1.5.0",
     "model_name": "DescriptionStyleModel",
     "state": {
      "_model_module": "@jupyter-widgets/controls",
      "_model_module_version": "1.5.0",
      "_model_name": "DescriptionStyleModel",
      "_view_count": null,
      "_view_module": "@jupyter-widgets/base",
      "_view_module_version": "1.2.0",
      "_view_name": "StyleView",
      "description_width": ""
     }
    },
    "397a12c974fb40c5abfa5dc2a4764239": {
     "model_module": "@jupyter-widgets/base",
     "model_module_version": "1.2.0",
     "model_name": "LayoutModel",
     "state": {
      "_model_module": "@jupyter-widgets/base",
      "_model_module_version": "1.2.0",
      "_model_name": "LayoutModel",
      "_view_count": null,
      "_view_module": "@jupyter-widgets/base",
      "_view_module_version": "1.2.0",
      "_view_name": "LayoutView",
      "align_content": null,
      "align_items": null,
      "align_self": null,
      "border": null,
      "bottom": null,
      "display": null,
      "flex": null,
      "flex_flow": null,
      "grid_area": null,
      "grid_auto_columns": null,
      "grid_auto_flow": null,
      "grid_auto_rows": null,
      "grid_column": null,
      "grid_gap": null,
      "grid_row": null,
      "grid_template_areas": null,
      "grid_template_columns": null,
      "grid_template_rows": null,
      "height": null,
      "justify_content": null,
      "justify_items": null,
      "left": null,
      "margin": null,
      "max_height": null,
      "max_width": null,
      "min_height": null,
      "min_width": null,
      "object_fit": null,
      "object_position": null,
      "order": null,
      "overflow": null,
      "overflow_x": null,
      "overflow_y": null,
      "padding": null,
      "right": null,
      "top": null,
      "visibility": null,
      "width": null
     }
    },
    "4193daac487f47e18ea46c36568dd3f0": {
     "model_module": "@jupyter-widgets/controls",
     "model_module_version": "1.5.0",
     "model_name": "FloatProgressModel",
     "state": {
      "_dom_classes": [],
      "_model_module": "@jupyter-widgets/controls",
      "_model_module_version": "1.5.0",
      "_model_name": "FloatProgressModel",
      "_view_count": null,
      "_view_module": "@jupyter-widgets/controls",
      "_view_module_version": "1.5.0",
      "_view_name": "ProgressView",
      "bar_style": "success",
      "description": "",
      "description_tooltip": null,
      "layout": "IPY_MODEL_6e7bf645e0fd48b1ac079fabcc498e5a",
      "max": 1407,
      "min": 0,
      "orientation": "horizontal",
      "style": "IPY_MODEL_d9c26ff122d44da89ce17cfd59817e21",
      "value": 1407
     }
    },
    "6e7bf645e0fd48b1ac079fabcc498e5a": {
     "model_module": "@jupyter-widgets/base",
     "model_module_version": "1.2.0",
     "model_name": "LayoutModel",
     "state": {
      "_model_module": "@jupyter-widgets/base",
      "_model_module_version": "1.2.0",
      "_model_name": "LayoutModel",
      "_view_count": null,
      "_view_module": "@jupyter-widgets/base",
      "_view_module_version": "1.2.0",
      "_view_name": "LayoutView",
      "align_content": null,
      "align_items": null,
      "align_self": null,
      "border": null,
      "bottom": null,
      "display": null,
      "flex": null,
      "flex_flow": null,
      "grid_area": null,
      "grid_auto_columns": null,
      "grid_auto_flow": null,
      "grid_auto_rows": null,
      "grid_column": null,
      "grid_gap": null,
      "grid_row": null,
      "grid_template_areas": null,
      "grid_template_columns": null,
      "grid_template_rows": null,
      "height": null,
      "justify_content": null,
      "justify_items": null,
      "left": null,
      "margin": null,
      "max_height": null,
      "max_width": null,
      "min_height": null,
      "min_width": null,
      "object_fit": null,
      "object_position": null,
      "order": null,
      "overflow": null,
      "overflow_x": null,
      "overflow_y": null,
      "padding": null,
      "right": null,
      "top": null,
      "visibility": null,
      "width": null
     }
    },
    "9f5915320fe24e0a8cddd0bd64dbd2ab": {
     "model_module": "@jupyter-widgets/base",
     "model_module_version": "1.2.0",
     "model_name": "LayoutModel",
     "state": {
      "_model_module": "@jupyter-widgets/base",
      "_model_module_version": "1.2.0",
      "_model_name": "LayoutModel",
      "_view_count": null,
      "_view_module": "@jupyter-widgets/base",
      "_view_module_version": "1.2.0",
      "_view_name": "LayoutView",
      "align_content": null,
      "align_items": null,
      "align_self": null,
      "border": null,
      "bottom": null,
      "display": null,
      "flex": null,
      "flex_flow": null,
      "grid_area": null,
      "grid_auto_columns": null,
      "grid_auto_flow": null,
      "grid_auto_rows": null,
      "grid_column": null,
      "grid_gap": null,
      "grid_row": null,
      "grid_template_areas": null,
      "grid_template_columns": null,
      "grid_template_rows": null,
      "height": null,
      "justify_content": null,
      "justify_items": null,
      "left": null,
      "margin": null,
      "max_height": null,
      "max_width": null,
      "min_height": null,
      "min_width": null,
      "object_fit": null,
      "object_position": null,
      "order": null,
      "overflow": null,
      "overflow_x": null,
      "overflow_y": null,
      "padding": null,
      "right": null,
      "top": null,
      "visibility": null,
      "width": null
     }
    },
    "9f8e71709d9e4b6bbcdd9f252db66b78": {
     "model_module": "@jupyter-widgets/controls",
     "model_module_version": "1.5.0",
     "model_name": "HBoxModel",
     "state": {
      "_dom_classes": [],
      "_model_module": "@jupyter-widgets/controls",
      "_model_module_version": "1.5.0",
      "_model_name": "HBoxModel",
      "_view_count": null,
      "_view_module": "@jupyter-widgets/controls",
      "_view_module_version": "1.5.0",
      "_view_name": "HBoxView",
      "box_style": "",
      "children": [
       "IPY_MODEL_a88bcf1933944768b3cb06eb2b2566cd",
       "IPY_MODEL_4193daac487f47e18ea46c36568dd3f0",
       "IPY_MODEL_fa10c3090513462b8efea0da570a0c72"
      ],
      "layout": "IPY_MODEL_fc4172b7698d47c4992c21cb117c0ff4"
     }
    },
    "a50ab5571daf4939be73c2cd03d2f44b": {
     "model_module": "@jupyter-widgets/controls",
     "model_module_version": "1.5.0",
     "model_name": "HTMLModel",
     "state": {
      "_dom_classes": [],
      "_model_module": "@jupyter-widgets/controls",
      "_model_module_version": "1.5.0",
      "_model_name": "HTMLModel",
      "_view_count": null,
      "_view_module": "@jupyter-widgets/controls",
      "_view_module_version": "1.5.0",
      "_view_name": "HTMLView",
      "description": "",
      "description_tooltip": null,
      "layout": "IPY_MODEL_d0ef5739ba5e418cbe82511fe8d11aa2",
      "placeholder": "​",
      "style": "IPY_MODEL_dae4a6ac93b5401ca4c4a14e6bd16138",
      "value": " 469/469 [00:48&lt;00:00, 23.63it/s]"
     }
    },
    "a88bcf1933944768b3cb06eb2b2566cd": {
     "model_module": "@jupyter-widgets/controls",
     "model_module_version": "1.5.0",
     "model_name": "HTMLModel",
     "state": {
      "_dom_classes": [],
      "_model_module": "@jupyter-widgets/controls",
      "_model_module_version": "1.5.0",
      "_model_name": "HTMLModel",
      "_view_count": null,
      "_view_module": "@jupyter-widgets/controls",
      "_view_module_version": "1.5.0",
      "_view_name": "HTMLView",
      "description": "",
      "description_tooltip": null,
      "layout": "IPY_MODEL_9f5915320fe24e0a8cddd0bd64dbd2ab",
      "placeholder": "​",
      "style": "IPY_MODEL_2cf17dd3472143469a674d5fb43b5138",
      "value": "Batches: 100%"
     }
    },
    "b24cbed457ea43628e45413c4f3d2c7f": {
     "model_module": "@jupyter-widgets/controls",
     "model_module_version": "1.5.0",
     "model_name": "HBoxModel",
     "state": {
      "_dom_classes": [],
      "_model_module": "@jupyter-widgets/controls",
      "_model_module_version": "1.5.0",
      "_model_name": "HBoxModel",
      "_view_count": null,
      "_view_module": "@jupyter-widgets/controls",
      "_view_module_version": "1.5.0",
      "_view_name": "HBoxView",
      "box_style": "",
      "children": [
       "IPY_MODEL_29a04935a9ab40abbafe34513633a605",
       "IPY_MODEL_22605db6a6c948918f8364ad5e4e3bda",
       "IPY_MODEL_a50ab5571daf4939be73c2cd03d2f44b"
      ],
      "layout": "IPY_MODEL_fabffd25547d4a1ba247681aa066a3a9"
     }
    },
    "d0ef5739ba5e418cbe82511fe8d11aa2": {
     "model_module": "@jupyter-widgets/base",
     "model_module_version": "1.2.0",
     "model_name": "LayoutModel",
     "state": {
      "_model_module": "@jupyter-widgets/base",
      "_model_module_version": "1.2.0",
      "_model_name": "LayoutModel",
      "_view_count": null,
      "_view_module": "@jupyter-widgets/base",
      "_view_module_version": "1.2.0",
      "_view_name": "LayoutView",
      "align_content": null,
      "align_items": null,
      "align_self": null,
      "border": null,
      "bottom": null,
      "display": null,
      "flex": null,
      "flex_flow": null,
      "grid_area": null,
      "grid_auto_columns": null,
      "grid_auto_flow": null,
      "grid_auto_rows": null,
      "grid_column": null,
      "grid_gap": null,
      "grid_row": null,
      "grid_template_areas": null,
      "grid_template_columns": null,
      "grid_template_rows": null,
      "height": null,
      "justify_content": null,
      "justify_items": null,
      "left": null,
      "margin": null,
      "max_height": null,
      "max_width": null,
      "min_height": null,
      "min_width": null,
      "object_fit": null,
      "object_position": null,
      "order": null,
      "overflow": null,
      "overflow_x": null,
      "overflow_y": null,
      "padding": null,
      "right": null,
      "top": null,
      "visibility": null,
      "width": null
     }
    },
    "d9c26ff122d44da89ce17cfd59817e21": {
     "model_module": "@jupyter-widgets/controls",
     "model_module_version": "1.5.0",
     "model_name": "ProgressStyleModel",
     "state": {
      "_model_module": "@jupyter-widgets/controls",
      "_model_module_version": "1.5.0",
      "_model_name": "ProgressStyleModel",
      "_view_count": null,
      "_view_module": "@jupyter-widgets/base",
      "_view_module_version": "1.2.0",
      "_view_name": "StyleView",
      "bar_color": null,
      "description_width": ""
     }
    },
    "dae4a6ac93b5401ca4c4a14e6bd16138": {
     "model_module": "@jupyter-widgets/controls",
     "model_module_version": "1.5.0",
     "model_name": "DescriptionStyleModel",
     "state": {
      "_model_module": "@jupyter-widgets/controls",
      "_model_module_version": "1.5.0",
      "_model_name": "DescriptionStyleModel",
      "_view_count": null,
      "_view_module": "@jupyter-widgets/base",
      "_view_module_version": "1.2.0",
      "_view_name": "StyleView",
      "description_width": ""
     }
    },
    "df8fbb0ff4cc487da306d011aa7c5b0a": {
     "model_module": "@jupyter-widgets/base",
     "model_module_version": "1.2.0",
     "model_name": "LayoutModel",
     "state": {
      "_model_module": "@jupyter-widgets/base",
      "_model_module_version": "1.2.0",
      "_model_name": "LayoutModel",
      "_view_count": null,
      "_view_module": "@jupyter-widgets/base",
      "_view_module_version": "1.2.0",
      "_view_name": "LayoutView",
      "align_content": null,
      "align_items": null,
      "align_self": null,
      "border": null,
      "bottom": null,
      "display": null,
      "flex": null,
      "flex_flow": null,
      "grid_area": null,
      "grid_auto_columns": null,
      "grid_auto_flow": null,
      "grid_auto_rows": null,
      "grid_column": null,
      "grid_gap": null,
      "grid_row": null,
      "grid_template_areas": null,
      "grid_template_columns": null,
      "grid_template_rows": null,
      "height": null,
      "justify_content": null,
      "justify_items": null,
      "left": null,
      "margin": null,
      "max_height": null,
      "max_width": null,
      "min_height": null,
      "min_width": null,
      "object_fit": null,
      "object_position": null,
      "order": null,
      "overflow": null,
      "overflow_x": null,
      "overflow_y": null,
      "padding": null,
      "right": null,
      "top": null,
      "visibility": null,
      "width": null
     }
    },
    "fa10c3090513462b8efea0da570a0c72": {
     "model_module": "@jupyter-widgets/controls",
     "model_module_version": "1.5.0",
     "model_name": "HTMLModel",
     "state": {
      "_dom_classes": [],
      "_model_module": "@jupyter-widgets/controls",
      "_model_module_version": "1.5.0",
      "_model_name": "HTMLModel",
      "_view_count": null,
      "_view_module": "@jupyter-widgets/controls",
      "_view_module_version": "1.5.0",
      "_view_name": "HTMLView",
      "description": "",
      "description_tooltip": null,
      "layout": "IPY_MODEL_1446fc38757c47c5b176abb70a0e5750",
      "placeholder": "​",
      "style": "IPY_MODEL_0248c87e1db94356821e2f52df3a9bd9",
      "value": " 1407/1407 [02:24&lt;00:00, 26.63it/s]"
     }
    },
    "fabffd25547d4a1ba247681aa066a3a9": {
     "model_module": "@jupyter-widgets/base",
     "model_module_version": "1.2.0",
     "model_name": "LayoutModel",
     "state": {
      "_model_module": "@jupyter-widgets/base",
      "_model_module_version": "1.2.0",
      "_model_name": "LayoutModel",
      "_view_count": null,
      "_view_module": "@jupyter-widgets/base",
      "_view_module_version": "1.2.0",
      "_view_name": "LayoutView",
      "align_content": null,
      "align_items": null,
      "align_self": null,
      "border": null,
      "bottom": null,
      "display": null,
      "flex": null,
      "flex_flow": null,
      "grid_area": null,
      "grid_auto_columns": null,
      "grid_auto_flow": null,
      "grid_auto_rows": null,
      "grid_column": null,
      "grid_gap": null,
      "grid_row": null,
      "grid_template_areas": null,
      "grid_template_columns": null,
      "grid_template_rows": null,
      "height": null,
      "justify_content": null,
      "justify_items": null,
      "left": null,
      "margin": null,
      "max_height": null,
      "max_width": null,
      "min_height": null,
      "min_width": null,
      "object_fit": null,
      "object_position": null,
      "order": null,
      "overflow": null,
      "overflow_x": null,
      "overflow_y": null,
      "padding": null,
      "right": null,
      "top": null,
      "visibility": null,
      "width": null
     }
    },
    "fc4172b7698d47c4992c21cb117c0ff4": {
     "model_module": "@jupyter-widgets/base",
     "model_module_version": "1.2.0",
     "model_name": "LayoutModel",
     "state": {
      "_model_module": "@jupyter-widgets/base",
      "_model_module_version": "1.2.0",
      "_model_name": "LayoutModel",
      "_view_count": null,
      "_view_module": "@jupyter-widgets/base",
      "_view_module_version": "1.2.0",
      "_view_name": "LayoutView",
      "align_content": null,
      "align_items": null,
      "align_self": null,
      "border": null,
      "bottom": null,
      "display": null,
      "flex": null,
      "flex_flow": null,
      "grid_area": null,
      "grid_auto_columns": null,
      "grid_auto_flow": null,
      "grid_auto_rows": null,
      "grid_column": null,
      "grid_gap": null,
      "grid_row": null,
      "grid_template_areas": null,
      "grid_template_columns": null,
      "grid_template_rows": null,
      "height": null,
      "justify_content": null,
      "justify_items": null,
      "left": null,
      "margin": null,
      "max_height": null,
      "max_width": null,
      "min_height": null,
      "min_width": null,
      "object_fit": null,
      "object_position": null,
      "order": null,
      "overflow": null,
      "overflow_x": null,
      "overflow_y": null,
      "padding": null,
      "right": null,
      "top": null,
      "visibility": null,
      "width": null
     }
    }
   }
  }
 },
 "nbformat": 4,
 "nbformat_minor": 0
}
